{
 "cells": [
  {
   "cell_type": "code",
   "execution_count": 5,
   "id": "49afca0b",
   "metadata": {},
   "outputs": [
    {
     "name": "stdout",
     "output_type": "stream",
     "text": [
      "AC Power\n"
     ]
    }
   ],
   "source": [
    "name = 'ac_power'\n",
    "print( name.replace('_', ' ').title().replace('Ac', 'AC') )  # Output: Ac Power"
   ]
  },
  {
   "cell_type": "code",
   "execution_count": 1,
   "id": "a362aaed",
   "metadata": {},
   "outputs": [
    {
     "name": "stdout",
     "output_type": "stream",
     "text": [
      "[1, 2, 3, 4, 5, 6]\n"
     ]
    }
   ],
   "source": [
    "l1 = [1,2,3]\n",
    "l2 = [4,5,6]\n",
    "l1.extend(l2)\n",
    "print(l1)  # Output: [1, 2, 3, 4, 5, 6]"
   ]
  },
  {
   "cell_type": "code",
   "execution_count": 1,
   "id": "7507f706",
   "metadata": {},
   "outputs": [
    {
     "name": "stdout",
     "output_type": "stream",
     "text": [
      "0\n"
     ]
    }
   ],
   "source": [
    "pattern = 'outputs/ac_heater_power/surface.png'\n",
    "print( len(pattern[pattern.index('surface')+7:pattern.index('.png')]) )  # Output: surface[0-9]*\n"
   ]
  }
 ],
 "metadata": {
  "kernelspec": {
   "display_name": "Python 3",
   "language": "python",
   "name": "python3"
  },
  "language_info": {
   "codemirror_mode": {
    "name": "ipython",
    "version": 3
   },
   "file_extension": ".py",
   "mimetype": "text/x-python",
   "name": "python",
   "nbconvert_exporter": "python",
   "pygments_lexer": "ipython3",
   "version": "3.13.5"
  }
 },
 "nbformat": 4,
 "nbformat_minor": 5
}
