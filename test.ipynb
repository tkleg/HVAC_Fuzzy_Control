{
 "cells": [
  {
   "cell_type": "code",
   "execution_count": 5,
   "id": "49afca0b",
   "metadata": {},
   "outputs": [
    {
     "name": "stdout",
     "output_type": "stream",
     "text": [
      "AC Power\n"
     ]
    }
   ],
   "source": [
    "name = 'ac_power'\n",
    "print( name.replace('_', ' ').title().replace('Ac', 'AC') )  # Output: Ac Power"
   ]
  }
 ],
 "metadata": {
  "kernelspec": {
   "display_name": "Python 3",
   "language": "python",
   "name": "python3"
  },
  "language_info": {
   "codemirror_mode": {
    "name": "ipython",
    "version": 3
   },
   "file_extension": ".py",
   "mimetype": "text/x-python",
   "name": "python",
   "nbconvert_exporter": "python",
   "pygments_lexer": "ipython3",
   "version": "3.13.5"
  }
 },
 "nbformat": 4,
 "nbformat_minor": 5
}
